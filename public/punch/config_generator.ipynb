{
 "cells": [
  {
   "cell_type": "code",
   "execution_count": 1,
   "metadata": {},
   "outputs": [],
   "source": [
    "import os\n",
    "from glob import glob\n",
    "import json\n",
    "import pandas as pd\n",
    "from tqdm import tqdm"
   ]
  },
  {
   "cell_type": "code",
   "execution_count": 2,
   "metadata": {},
   "outputs": [
    {
     "ename": "FileNotFoundError",
     "evalue": "[Errno 2] No such file or directory: '/Users/minsukchang/Research/PunchHole/SalChartQA/data/image_questions.json'",
     "output_type": "error",
     "traceback": [
      "\u001b[0;31m---------------------------------------------------------------------------\u001b[0m",
      "\u001b[0;31mFileNotFoundError\u001b[0m                         Traceback (most recent call last)",
      "Cell \u001b[0;32mIn[2], line 6\u001b[0m\n\u001b[1;32m      4\u001b[0m Q1_df[\u001b[38;5;124m\"\u001b[39m\u001b[38;5;124mQ\u001b[39m\u001b[38;5;124m\"\u001b[39m] \u001b[38;5;241m=\u001b[39m \u001b[38;5;124m\"\u001b[39m\u001b[38;5;124mQ1\u001b[39m\u001b[38;5;124m\"\u001b[39m\n\u001b[1;32m      5\u001b[0m df \u001b[38;5;241m=\u001b[39m pd\u001b[38;5;241m.\u001b[39mconcat([Q0_df, Q1_df])\n\u001b[0;32m----> 6\u001b[0m \u001b[38;5;28;01mwith\u001b[39;00m \u001b[38;5;28;43mopen\u001b[39;49m\u001b[43m(\u001b[49m\u001b[38;5;124;43m\"\u001b[39;49m\u001b[38;5;124;43m/Users/minsukchang/Research/PunchHole/SalChartQA/data/image_questions.json\u001b[39;49m\u001b[38;5;124;43m\"\u001b[39;49m\u001b[43m)\u001b[49m \u001b[38;5;28;01mas\u001b[39;00m f:\n\u001b[1;32m      7\u001b[0m     image_questions \u001b[38;5;241m=\u001b[39m json\u001b[38;5;241m.\u001b[39mload(f)\n",
      "File \u001b[0;32m~/.env/lib/python3.11/site-packages/IPython/core/interactiveshell.py:310\u001b[0m, in \u001b[0;36m_modified_open\u001b[0;34m(file, *args, **kwargs)\u001b[0m\n\u001b[1;32m    303\u001b[0m \u001b[38;5;28;01mif\u001b[39;00m file \u001b[38;5;129;01min\u001b[39;00m {\u001b[38;5;241m0\u001b[39m, \u001b[38;5;241m1\u001b[39m, \u001b[38;5;241m2\u001b[39m}:\n\u001b[1;32m    304\u001b[0m     \u001b[38;5;28;01mraise\u001b[39;00m \u001b[38;5;167;01mValueError\u001b[39;00m(\n\u001b[1;32m    305\u001b[0m         \u001b[38;5;124mf\u001b[39m\u001b[38;5;124m\"\u001b[39m\u001b[38;5;124mIPython won\u001b[39m\u001b[38;5;124m'\u001b[39m\u001b[38;5;124mt let you open fd=\u001b[39m\u001b[38;5;132;01m{\u001b[39;00mfile\u001b[38;5;132;01m}\u001b[39;00m\u001b[38;5;124m by default \u001b[39m\u001b[38;5;124m\"\u001b[39m\n\u001b[1;32m    306\u001b[0m         \u001b[38;5;124m\"\u001b[39m\u001b[38;5;124mas it is likely to crash IPython. If you know what you are doing, \u001b[39m\u001b[38;5;124m\"\u001b[39m\n\u001b[1;32m    307\u001b[0m         \u001b[38;5;124m\"\u001b[39m\u001b[38;5;124myou can use builtins\u001b[39m\u001b[38;5;124m'\u001b[39m\u001b[38;5;124m open.\u001b[39m\u001b[38;5;124m\"\u001b[39m\n\u001b[1;32m    308\u001b[0m     )\n\u001b[0;32m--> 310\u001b[0m \u001b[38;5;28;01mreturn\u001b[39;00m \u001b[43mio_open\u001b[49m\u001b[43m(\u001b[49m\u001b[43mfile\u001b[49m\u001b[43m,\u001b[49m\u001b[43m \u001b[49m\u001b[38;5;241;43m*\u001b[39;49m\u001b[43margs\u001b[49m\u001b[43m,\u001b[49m\u001b[43m \u001b[49m\u001b[38;5;241;43m*\u001b[39;49m\u001b[38;5;241;43m*\u001b[39;49m\u001b[43mkwargs\u001b[49m\u001b[43m)\u001b[49m\n",
      "\u001b[0;31mFileNotFoundError\u001b[0m: [Errno 2] No such file or directory: '/Users/minsukchang/Research/PunchHole/SalChartQA/data/image_questions.json'"
     ]
    }
   ],
   "source": [
    "Q0_df = pd.read_csv(\"/Users/minsukchang/Research/PunchHole/initial_patch_csv/128_gpt_Q0.csv\")\n",
    "Q1_df = pd.read_csv(\"/Users/minsukchang/Research/PunchHole/initial_patch_csv/128_gpt_Q1.csv\")\n",
    "Q0_df[\"Q\"] = \"Q0\"\n",
    "Q1_df[\"Q\"] = \"Q1\"\n",
    "df = pd.concat([Q0_df, Q1_df])\n",
    "with open(\"/Users/minsukchang/Research/PunchHole/SalChartQA/data/image_questions.json\") as f:\n",
    "    image_questions = json.load(f)"
   ]
  },
  {
   "cell_type": "code",
   "execution_count": 39,
   "metadata": {},
   "outputs": [
    {
     "name": "stderr",
     "output_type": "stream",
     "text": [
      "100%|██████████| 10/10 [00:00<00:00, 45.14it/s]\n"
     ]
    }
   ],
   "source": [
    "image_lists = glob(\"/Users/minsukchang/Research/ChartQA/chartqa/*.png\")\n",
    "image_lists = [os.path.basename(x) for x in image_lists]\n",
    "\n",
    "\n",
    "def create_default_components():\n",
    "    return {\n",
    "        \"welcome\": {\n",
    "            \"type\": \"markdown\",\n",
    "            \"path\": \"punch/assets/welcome.md\",\n",
    "            \"response\": []\n",
    "        },\n",
    "        \"consent\": {\n",
    "            \"type\": \"markdown\",\n",
    "            \"path\": \"punch/assets/consent.md\",\n",
    "            \"nextButtonText\": \"I agree\",\n",
    "            \"response\": []\n",
    "        },\n",
    "        \"demographics\": {\n",
    "            \"type\": \"questionnaire\",\n",
    "            \"response\": [\n",
    "                {\n",
    "                    \"id\": \"age\",\n",
    "                    \"type\": \"numerical\",\n",
    "                    \"required\": True,\n",
    "                    \"prompt\": \"What is your age?\"\n",
    "                },\n",
    "                {\n",
    "                    \"id\": \"height\",\n",
    "                    \"type\": \"numerical\",\n",
    "                    \"required\": True,\n",
    "                    \"prompt\": \"What is your height in inches?\"\n",
    "                }\n",
    "            ]\n",
    "        },\n",
    "    }\n",
    "\n",
    "def create_initial_components(limit=10000):\n",
    "    allComponents = {}\n",
    "    for image_id in tqdm(image_lists[:limit]):\n",
    "        image_link = f\"https://raw.githubusercontent.com/jangsus1/ChartQA/main/grid_img/{image_id}\"\n",
    "        for Q in [\"Q0\", \"Q1\"]:\n",
    "            if Q not in image_questions[image_id]: continue\n",
    "            rows = df[(df[\"image_id\"] == image_id)&(df[\"Q\"] == Q)]\n",
    "            y = rows[rows['importance']>0]['i']\n",
    "            x = rows[rows['importance']>0]['j']\n",
    "            \n",
    "            x_grids = rows['j'].unique().tolist()\n",
    "            y_grids = rows['i'].unique().tolist()\n",
    "            \n",
    "            \n",
    "            allComponents[f\"trial_{image_id}_{Q}\"] = {\n",
    "                \"baseComponent\": \"punch\",\n",
    "                \"parameters\": {\n",
    "                    \"image\": image_link,\n",
    "                    \"question\": image_questions[image_id][Q],\n",
    "                    \"holes\": [{\"x\": x_, \"y\": y_} for x_, y_ in zip(x, y)],\n",
    "                    \"x_grids\": x_grids,\n",
    "                    \"y_grids\": y_grids,\n",
    "                }\n",
    "            }\n",
    "    return allComponents\n",
    "\n",
    "\n",
    "default_components = create_default_components()\n",
    "main_components = create_initial_components(10)\n",
    "components = default_components|main_components"
   ]
  },
  {
   "cell_type": "code",
   "execution_count": 40,
   "metadata": {},
   "outputs": [],
   "source": [
    "def sequence_generator(components):\n",
    "    sequence = {\n",
    "        \"order\": \"fixed\",\n",
    "        \"components\": [\n",
    "            \"welcome\",\n",
    "            \"consent\",\n",
    "            {\n",
    "                \"order\": \"random\",\n",
    "                \"numSamples\": 10,\n",
    "                \"components\": components\n",
    "            },\n",
    "            \"demographics\"\n",
    "        ]\n",
    "    }\n",
    "    return sequence\n",
    "\n",
    "sequence = sequence_generator(list(main_components.keys()))\n"
   ]
  },
  {
   "cell_type": "code",
   "execution_count": 41,
   "metadata": {},
   "outputs": [],
   "source": [
    "with open(\"config.json\", \"r\") as f:\n",
    "    config = json.load(f)\n",
    "config['components'] = components\n",
    "config['sequence'] = sequence\n",
    "with open(\"config.json\", \"w\") as f:\n",
    "    json.dump(config, f, indent=4)"
   ]
  },
  {
   "cell_type": "code",
   "execution_count": null,
   "metadata": {},
   "outputs": [],
   "source": []
  }
 ],
 "metadata": {
  "kernelspec": {
   "display_name": ".env",
   "language": "python",
   "name": "python3"
  },
  "language_info": {
   "codemirror_mode": {
    "name": "ipython",
    "version": 3
   },
   "file_extension": ".py",
   "mimetype": "text/x-python",
   "name": "python",
   "nbconvert_exporter": "python",
   "pygments_lexer": "ipython3",
   "version": "3.11.10"
  }
 },
 "nbformat": 4,
 "nbformat_minor": 2
}
